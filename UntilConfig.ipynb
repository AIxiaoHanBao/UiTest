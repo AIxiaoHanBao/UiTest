{
 "cells": [
  {
   "cell_type": "code",
   "execution_count": 12,
   "outputs": [],
   "source": [
    "import UntilConfig as uconfig\n",
    "import pandas as pd\n",
    "import Populate as popConfig\n",
    "import MdbController as mdbConffig\n"
   ],
   "metadata": {
    "collapsed": false,
    "ExecuteTime": {
     "end_time": "2023-09-13T06:30:39.158085900Z",
     "start_time": "2023-09-13T06:30:39.136064300Z"
    }
   }
  },
  {
   "cell_type": "code",
   "execution_count": 13,
   "outputs": [
    {
     "data": {
      "text/plain": "[array([1, nan, 'XH0', 'XH1', 0.4, 0.4, '管埋', 'PE', '60X30', nan, 2, 2, 2,\n        nan, nan, nan, nan, nan, nan, nan, nan, nan, nan, nan, nan, nan,\n        nan, nan, nan, nan, nan, nan, nan, nan, nan, nan, nan, nan, nan,\n        nan, nan, nan, nan, nan, nan, nan, nan, nan], dtype=object),\n array([2, nan, 'XH1', 'XH2', 0.4, 0.4, '管埋', 'PE', '60X30', nan, 2, 2, 2,\n        nan, nan, nan, nan, nan, nan, nan, nan, nan, nan, nan, nan, nan,\n        nan, nan, nan, nan, nan, nan, nan, nan, nan, nan, nan, nan, nan,\n        nan, nan, nan, nan, nan, nan, nan, nan, nan], dtype=object),\n array([3, nan, 'XH1', 'XH3', 0.3, 0.3, '管埋', 'PE', '30', nan, 1, 1, 1,\n        nan, nan, nan, nan, nan, nan, nan, nan, nan, nan, nan, nan, nan,\n        nan, nan, nan, nan, nan, nan, nan, nan, nan, nan, nan, nan, nan,\n        nan, nan, nan, nan, nan, nan, nan, nan, nan], dtype=object),\n array([4, nan, 'XH2', 'XH4', 0.4, 0.4, '管埋', 'PE', '60X30', nan, 2, 2, 2,\n        nan, nan, nan, nan, nan, nan, nan, nan, nan, nan, nan, nan, nan,\n        nan, nan, nan, nan, nan, nan, nan, nan, nan, nan, nan, nan, nan,\n        nan, nan, nan, nan, nan, nan, nan, nan, nan], dtype=object),\n array([5, nan, 'XH0', 'XH5', 0.4, 0.4, '管埋', 'PE', '60X30', nan, 2, 2, 2,\n        nan, nan, nan, nan, nan, nan, nan, nan, nan, nan, nan, nan, nan,\n        nan, nan, nan, nan, nan, nan, nan, nan, nan, nan, nan, nan, nan,\n        nan, nan, nan, nan, nan, nan, nan, nan, nan], dtype=object),\n array([6, nan, 'XH5', 'XH6', 0.4, 0.4, '管埋', 'PE', '60X30', nan, 2, 2, 2,\n        nan, nan, nan, nan, nan, nan, nan, nan, nan, nan, nan, nan, nan,\n        nan, nan, nan, nan, nan, nan, nan, nan, nan, nan, nan, nan, nan,\n        nan, nan, nan, nan, nan, nan, nan, nan, nan], dtype=object)]"
     },
     "execution_count": 13,
     "metadata": {},
     "output_type": "execute_result"
    }
   ],
   "source": [
    "#读取文件(这里Sheet_name 需要传入\n",
    "excl_file=pd.read_excel(\"采集成果.xls\",sheet_name=\"XH_LINE\")\n",
    "list(excl_file.values)\n"
   ],
   "metadata": {
    "collapsed": false,
    "ExecuteTime": {
     "end_time": "2023-09-13T06:30:39.197650700Z",
     "start_time": "2023-09-13T06:30:39.152586200Z"
    }
   }
  },
  {
   "cell_type": "code",
   "execution_count": 14,
   "outputs": [
    {
     "name": "stdout",
     "output_type": "stream",
     "text": [
      "15\n",
      "['_id', '管线段号', '管线材质', '埋设方式', '起点埋深', '终点埋深', '管径', '管径', '管径', '电压', '线缆条数', '总孔数', '已用孔数', '起点点号', '终点点号']\n",
      "15\n",
      "['MSLINK', 'GD_ID', 'CZ', 'MSFS', 'QDMS', 'ZDMS', 'GNJ', 'GWJ', 'GWG', 'DY', 'DLGS', 'ZKS', 'ZYKS', 'QD_ID', 'ZD_ID']\n"
     ]
    }
   ],
   "source": [
    "#获取到所有字段\n",
    "table_cloum = list(uconfig.XH_LINE.keys())\n",
    "excl_cloum =  list(uconfig.XH_LINE.values())\n",
    "\n",
    "\n",
    " \n",
    "print(len(excl_cloum))\n",
    "print(excl_cloum)\n",
    "print(len(table_cloum))\n",
    "print(table_cloum)\n",
    "\n"
   ],
   "metadata": {
    "collapsed": false,
    "ExecuteTime": {
     "end_time": "2023-09-13T06:30:39.197650700Z",
     "start_time": "2023-09-13T06:30:39.182120500Z"
    }
   }
  },
  {
   "cell_type": "code",
   "execution_count": 15,
   "outputs": [
    {
     "name": "stdout",
     "output_type": "stream",
     "text": [
      "0   NaN\n",
      "1   NaN\n",
      "2   NaN\n",
      "3   NaN\n",
      "4   NaN\n",
      "5   NaN\n",
      "Name: 管线段号, dtype: float64\n"
     ]
    }
   ],
   "source": [
    "#获取到对应字段的数据\n",
    "data = excl_file[excl_cloum]\n",
    "print(data.管线段号)\n"
   ],
   "metadata": {
    "collapsed": false,
    "ExecuteTime": {
     "end_time": "2023-09-13T06:30:39.219835600Z",
     "start_time": "2023-09-13T06:30:39.199663800Z"
    }
   }
  },
  {
   "cell_type": "code",
   "execution_count": 16,
   "outputs": [
    {
     "name": "stdout",
     "output_type": "stream",
     "text": [
      "[nan nan nan nan nan nan]\n",
      "[nan, nan, nan, nan, nan, nan]\n"
     ]
    }
   ],
   "source": [
    "#获取管道\n",
    "data_list =data.管线段号.values\n",
    "print(data_list)\n",
    "print(data_list.tolist())\n"
   ],
   "metadata": {
    "collapsed": false,
    "ExecuteTime": {
     "end_time": "2023-09-13T06:30:39.301976600Z",
     "start_time": "2023-09-13T06:30:39.217320700Z"
    }
   }
  },
  {
   "cell_type": "code",
   "execution_count": 17,
   "outputs": [],
   "source": [
    "# #特殊字段的处理\n",
    "import Handling as handConfig\n",
    "# handConfig.gj_list(data_list.tolist())\n"
   ],
   "metadata": {
    "collapsed": false,
    "ExecuteTime": {
     "end_time": "2023-09-13T06:30:39.303474100Z",
     "start_time": "2023-09-13T06:30:39.231353200Z"
    }
   }
  },
  {
   "cell_type": "code",
   "execution_count": 18,
   "outputs": [
    {
     "data": {
      "text/plain": "[[], [], [], [], [], []]"
     },
     "execution_count": 18,
     "metadata": {},
     "output_type": "execute_result"
    }
   ],
   "source": [
    "# #第一个字段的初始化\n",
    "result_list = [[] for _ in range(len(data[excl_cloum[0]].values.tolist()))]\n",
    "# result_list = list(map(list, zip(*result_list)))\n",
    "result_list\n"
   ],
   "metadata": {
    "collapsed": false,
    "ExecuteTime": {
     "end_time": "2023-09-13T06:30:39.303975200Z",
     "start_time": "2023-09-13T06:30:39.245881900Z"
    }
   }
  },
  {
   "cell_type": "markdown",
   "source": [],
   "metadata": {
    "collapsed": false
   }
  },
  {
   "cell_type": "code",
   "execution_count": 19,
   "outputs": [],
   "source": [
    "# #处理后的字段添加进入\n",
    "# data_list=handConfig.gj_list(data_list.tolist())\n",
    "# print(data_list)\n",
    "# for i in range(len(result_list)):\n",
    "#     result_list[i].extend(data_list[i])\n",
    "# \n",
    "# print(result_list)\n"
   ],
   "metadata": {
    "collapsed": false,
    "ExecuteTime": {
     "end_time": "2023-09-13T06:30:39.338027Z",
     "start_time": "2023-09-13T06:30:39.262414200Z"
    }
   }
  },
  {
   "cell_type": "code",
   "execution_count": 20,
   "outputs": [
    {
     "name": "stdout",
     "output_type": "stream",
     "text": [
      "6\n"
     ]
    }
   ],
   "source": [
    "data.已用孔数.values.tolist()[0]\n",
    "print(len(data[\"管径\"].values.tolist()))"
   ],
   "metadata": {
    "collapsed": false,
    "ExecuteTime": {
     "end_time": "2023-09-13T06:30:39.338526800Z",
     "start_time": "2023-09-13T06:30:39.276424800Z"
    }
   }
  },
  {
   "cell_type": "code",
   "execution_count": 21,
   "outputs": [
    {
     "name": "stdout",
     "output_type": "stream",
     "text": [
      "['_id', '管线段号', '管线材质', '埋设方式', '起点埋深', '终点埋深', '管径', '管径', '管径', '电压', '线缆条数', '总孔数', '已用孔数', '起点点号', '终点点号']\n",
      "[[], [], [], [], [], []]\n",
      "_id\n",
      "_id\n",
      "管线段号\n",
      "管线材质\n",
      "埋设方式\n",
      "起点埋深\n",
      "终点埋深\n",
      "管径\n",
      "管径\n",
      "管径\n",
      "电压\n",
      "线缆条数\n",
      "总孔数\n",
      "已用孔数\n",
      "起点点号\n",
      "终点点号\n",
      "[[1, nan, 'PE', '管埋', 0.4, 0.4, ['60X30', '60X30', '60X30'], ['60X30', '60X30', '60X30'], ['60X30', '60X30', '60X30'], nan, 2, 2, 2, 'XH0', 'XH1'], [2, nan, 'PE', '管埋', 0.4, 0.4, ['60X30', '60X30', '60X30'], ['60X30', '60X30', '60X30'], ['60X30', '60X30', '60X30'], nan, 2, 2, 2, 'XH1', 'XH2'], [3, nan, 'PE', '管埋', 0.3, 0.3, ['30', '30', '30'], ['30', '30', '30'], ['30', '30', '30'], nan, 1, 1, 1, 'XH1', 'XH3'], [4, nan, 'PE', '管埋', 0.4, 0.4, ['60X30', '60X30', '60X30'], ['60X30', '60X30', '60X30'], ['60X30', '60X30', '60X30'], nan, 2, 2, 2, 'XH2', 'XH4'], [5, nan, 'PE', '管埋', 0.4, 0.4, ['60X30', '60X30', '60X30'], ['60X30', '60X30', '60X30'], ['60X30', '60X30', '60X30'], nan, 2, 2, 2, 'XH0', 'XH5'], [6, nan, 'PE', '管埋', 0.4, 0.4, ['60X30', '60X30', '60X30'], ['60X30', '60X30', '60X30'], ['60X30', '60X30', '60X30'], nan, 2, 2, 2, 'XH5', 'XH6']]\n",
      "15\n"
     ]
    }
   ],
   "source": [
    "#添加所有字段流程\n",
    "# result_list = [data[f\"{excl_cloum[0]}\"].tolist()]\n",
    "# result_list = list(map(list, zip(*result_list)))\n",
    "\n",
    "print(excl_cloum)\n",
    "print(result_list)\n",
    "print(excl_cloum[0])\n",
    "\n",
    "splic_list=uconfig.special_fields.copy()\n",
    "data_len = len(data.管径.values.tolist())\n",
    "\n",
    "for i in excl_cloum:\n",
    "    print(i)\n",
    "\n",
    "    if i in uconfig.populate_fields:\n",
    "        print(\"我进入了自增字段\")\n",
    "        populate_list =  popConfig.populateCloum(data[i].tolist())\n",
    "        for j in range(len(result_list)):\n",
    "            value = populate_list[j]\n",
    "            result_list[j].extend([value])\n",
    "        continue\n",
    "        \n",
    "    #特殊字段(一般来说特殊字段都是处理了后批量添加(如果后续有处理完单独加入后续防范方法写一下\n",
    "    elif i in splic_list:\n",
    "        #处理特殊字段 \n",
    "        splic_list_data=handConfig.process_fields(i,data[i].values.tolist())\n",
    "        #处理完成就删除这个字段避免重复处理出现问题\n",
    "        splic_list.pop(splic_list.index(i))\n",
    "        #加入到里面\n",
    "        for j in range(len(result_list)):\n",
    "            result_list[j].extend(splic_list_data[j])\n",
    "        continue\n",
    "        #默认处理的字段就是这样,不存于 特殊 和 自增字段\n",
    "        # (i not in uconfig.special_fields) and (i not in uconfig.populate_fields)\n",
    "    elif((i not in uconfig.special_fields) and (i not in uconfig.populate_fields)):\n",
    "        for j in range(len(result_list)):\n",
    "            value = data[i].values.tolist()[j]\n",
    "            result_list[j].extend([value])\n",
    "            \n",
    "print(result_list)\n",
    "print(len(result_list[0]))\n"
   ],
   "metadata": {
    "collapsed": false,
    "ExecuteTime": {
     "end_time": "2023-09-13T06:30:39.340538100Z",
     "start_time": "2023-09-13T06:30:39.295461900Z"
    }
   }
  },
  {
   "cell_type": "code",
   "execution_count": 22,
   "outputs": [
    {
     "ename": "TypeError",
     "evalue": "del_table() takes 1 positional argument but 2 were given",
     "output_type": "error",
     "traceback": [
      "\u001B[1;31m---------------------------------------------------------------------------\u001B[0m",
      "\u001B[1;31mTypeError\u001B[0m                                 Traceback (most recent call last)",
      "\u001B[1;32m~\\AppData\\Local\\Temp\\ipykernel_39608\\2882476548.py\u001B[0m in \u001B[0;36m<module>\u001B[1;34m\u001B[0m\n\u001B[0;32m      1\u001B[0m \u001B[1;31m#连接数据库\u001B[0m\u001B[1;33m\u001B[0m\u001B[1;33m\u001B[0m\u001B[1;33m\u001B[0m\u001B[0m\n\u001B[1;32m----> 2\u001B[1;33m \u001B[0mmdbConffig\u001B[0m\u001B[1;33m.\u001B[0m\u001B[0mdel_table\u001B[0m\u001B[1;33m(\u001B[0m\u001B[1;34m\"XH_LINE\"\u001B[0m\u001B[1;33m,\u001B[0m\u001B[1;34mr\"F:\\咸鱼项目\\8-8咸鱼unet项目\\测试\\testAccess\\newTest\\园区模板null.mdb\"\u001B[0m\u001B[1;33m)\u001B[0m\u001B[1;33m\u001B[0m\u001B[1;33m\u001B[0m\u001B[0m\n\u001B[0m\u001B[0;32m      3\u001B[0m \u001B[1;32mfor\u001B[0m \u001B[0mi\u001B[0m \u001B[1;32min\u001B[0m  \u001B[0mresult_list\u001B[0m\u001B[1;33m:\u001B[0m\u001B[1;33m\u001B[0m\u001B[1;33m\u001B[0m\u001B[0m\n\u001B[0;32m      4\u001B[0m     \u001B[0mmdbConffig\u001B[0m\u001B[1;33m.\u001B[0m\u001B[0minsert_data\u001B[0m\u001B[1;33m(\u001B[0m\u001B[1;34m\"XH_LINE\"\u001B[0m\u001B[1;33m,\u001B[0m\u001B[0mtable_cloum\u001B[0m\u001B[1;33m,\u001B[0m\u001B[0mi\u001B[0m\u001B[1;33m,\u001B[0m\u001B[1;34mr\"F:\\咸鱼项目\\8-8咸鱼unet项目\\测试\\testAccess\\newTest\\园区模板null.mdb\"\u001B[0m\u001B[1;33m)\u001B[0m\u001B[1;33m\u001B[0m\u001B[1;33m\u001B[0m\u001B[0m\n\u001B[0;32m      5\u001B[0m \u001B[1;33m\u001B[0m\u001B[0m\n",
      "\u001B[1;31mTypeError\u001B[0m: del_table() takes 1 positional argument but 2 were given"
     ]
    }
   ],
   "source": [
    "#连接数据库\n",
    "mdbConffig.del_table(\"XH_LINE\",r\"F:\\咸鱼项目\\8-8咸鱼unet项目\\测试\\testAccess\\newTest\\园区模板null.mdb\")\n",
    "for i in  result_list:\n",
    "    mdbConffig.insert_data(\"XH_LINE\",table_cloum,i,r\"F:\\咸鱼项目\\8-8咸鱼unet项目\\测试\\testAccess\\newTest\\园区模板null.mdb\")\n",
    "\n",
    "\n"
   ],
   "metadata": {
    "collapsed": false,
    "ExecuteTime": {
     "end_time": "2023-09-13T06:30:39.426165Z",
     "start_time": "2023-09-13T06:30:39.323005400Z"
    }
   }
  }
 ],
 "metadata": {
  "kernelspec": {
   "display_name": "Python 3",
   "language": "python",
   "name": "python3"
  },
  "language_info": {
   "codemirror_mode": {
    "name": "ipython",
    "version": 2
   },
   "file_extension": ".py",
   "mimetype": "text/x-python",
   "name": "python",
   "nbconvert_exporter": "python",
   "pygments_lexer": "ipython2",
   "version": "2.7.6"
  }
 },
 "nbformat": 4,
 "nbformat_minor": 0
}
